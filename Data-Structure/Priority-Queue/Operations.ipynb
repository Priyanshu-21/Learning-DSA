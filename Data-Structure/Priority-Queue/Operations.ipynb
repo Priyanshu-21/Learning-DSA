{
 "cells": [
  {
   "cell_type": "markdown",
   "id": "4fd0d99f",
   "metadata": {},
   "source": [
    "### Implementation of Extract method of Priority Queue using Heap \n",
    "- In this implementation, we are taking max value from heap and treating that process gets executed. \n",
    "- Exchange, root to the next max object to 1st key \n"
   ]
  },
  {
   "cell_type": "code",
   "execution_count": 51,
   "id": "41638a33",
   "metadata": {},
   "outputs": [],
   "source": [
    "# Implementation of Extract Max - Heap\n",
    "def max_heapify(Arr: list[int], i: int, n: int) -> None: \n",
    "    maximum = i\n",
    "    left = 2 * i\n",
    "    right = 2 * i + 1\n",
    "\n",
    "    if (left <= n and Arr[left - 1] > Arr[i - 1]):\n",
    "        maximum = left\n",
    "    \n",
    "    if (right <= n and Arr[right - 1] > Arr[left - 1]):\n",
    "        maximum = right \n",
    "    \n",
    "    if (i != maximum):\n",
    "        (Arr[i - 1], Arr[maximum - 1]) = (Arr[maximum - 1], Arr[i - 1])\n",
    "        max_heapify(Arr, maximum, n)\n",
    "\n",
    "def get_max(Arr: list[int]) -> int: \n",
    "    if (len(Arr) < 1):\n",
    "        return \"Heap Underflow\"\n",
    "    else:\n",
    "        return Arr[0]\n",
    "\n",
    "def extract_max_heap(Arr: list[int], n: int) -> int: \n",
    "    max = get_max(Arr)\n",
    "    (Arr[0], Arr[n - 1]) = (Arr[n - 1], Arr[0])\n",
    "    n = n - 1\n",
    "    max_heapify(Arr, 1, n)\n",
    "    \n",
    "    return max"
   ]
  },
  {
   "cell_type": "code",
   "execution_count": 60,
   "id": "a679ac3b",
   "metadata": {},
   "outputs": [
    {
     "name": "stdout",
     "output_type": "stream",
     "text": [
      "Max element from Max - Heap: 25\n",
      "Max element from Max - Heap: 20\n",
      "Max element from Max - Heap: 17\n",
      "Max element from Max - Heap: 13\n",
      "Max element from Max - Heap: 8\n",
      "Max element from Max - Heap: 7\n",
      "Max element from Max - Heap: 5\n",
      "Max element from Max - Heap: 4\n",
      "Max element from Max - Heap: 2\n"
     ]
    }
   ],
   "source": [
    "Arr = [25, 13, 20, 8, 7, 17, 2, 5, 4]\n",
    "n = len(Arr)\n",
    "for i in range (0, n, 1):\n",
    "    result = extract_max_heap(Arr, n - i)\n",
    "    print(f\"Max element from Max - Heap: {result}\")"
   ]
  },
  {
   "cell_type": "markdown",
   "id": "a9f88ad4",
   "metadata": {},
   "source": [
    "### Time Complexity: - \n",
    "- In Extract Max value from Priority Queue using Heap Implementation: - \n",
    "1. Swap Operation:- Θ(1)\n",
    "2. Build Max Heap:- $Θ(log_2(n))$\n",
    "- **Total Time Complexity**: - $Θ(log_2(n))$"
   ]
  }
 ],
 "metadata": {
  "kernelspec": {
   "display_name": ".venv",
   "language": "python",
   "name": "python3"
  },
  "language_info": {
   "codemirror_mode": {
    "name": "ipython",
    "version": 3
   },
   "file_extension": ".py",
   "mimetype": "text/x-python",
   "name": "python",
   "nbconvert_exporter": "python",
   "pygments_lexer": "ipython3",
   "version": "3.12.3"
  }
 },
 "nbformat": 4,
 "nbformat_minor": 5
}
