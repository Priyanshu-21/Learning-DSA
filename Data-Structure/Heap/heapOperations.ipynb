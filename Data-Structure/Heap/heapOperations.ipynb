{
 "cells": [
  {
   "cell_type": "markdown",
   "id": "c1f3e4db",
   "metadata": {},
   "source": [
    "### Maintaing the Heap Property\n",
    "- For maintaining the heap property, we are using the following operations \n",
    "1. **Bubble Up**: - In this method, we are analyzing element at leaf node and comparing it's properties with node's parent. After comparision we are moving up the node to it's true position\n",
    "- `Number of violation in this approach should be 1 always`. "
   ]
  },
  {
   "cell_type": "code",
   "execution_count": 33,
   "id": "d6c610e6",
   "metadata": {},
   "outputs": [
    {
     "name": "stdout",
     "output_type": "stream",
     "text": [
      "[19, 3, 5, 8, 2, 15]\n"
     ]
    }
   ],
   "source": [
    "# Implement Min - Heapify (Heap should always maintain Min - Heap property)\n",
    "def min_heapify(A: list[int], i: int, n: int) -> None:\n",
    "\n",
    "    l = 2 * i - 1\n",
    "    r = (2 * i + 1) - 1\n",
    "    i = i - 1 # to have index value start from 0\n",
    "    if (l < n and A[l] < A[i]):\n",
    "        smallest = l\n",
    "    else:\n",
    "        smallest = i\n",
    "    \n",
    "    if (r < n and A[smallest] < A[r]):\n",
    "        smallest = r\n",
    "    \n",
    "    if (i != smallest):\n",
    "        (A[i], A[smallest]) = (A[smallest], A[i])\n",
    "        min_heapify(A, smallest, n)\n",
    "\n",
    "\n",
    "A = [15, 8, 19, 3, 2, 5]\n",
    "min_heapify(A, 1, len(A))\n",
    "print(A)"
   ]
  },
  {
   "cell_type": "code",
   "execution_count": null,
   "id": "d2f23d97",
   "metadata": {},
   "outputs": [
    {
     "name": "stdout",
     "output_type": "stream",
     "text": [
      "[5, 7, 7, 10, 10, 9, 8, 12]\n"
     ]
    }
   ],
   "source": [
    "# Bottom - Up approach in min - Heapify\n",
    "def bubble_up(A: list[int], n: int) -> None:\n",
    "    # Base Case:\n",
    "    if (n < 1):\n",
    "        # Node reaches root \n",
    "        return\n",
    "    \n",
    "    else:\n",
    "        parent_element = n // 2\n",
    "        # check which is min (node and it's parent)\n",
    "        if (A[n] < A[parent_element]):\n",
    "            # child is mininum than parent (Violation of Min - Heapify)\n",
    "            (A[n], A[parent_element]) = (A[parent_element], A[n])\n",
    "\n",
    "            # Now check for other violation in property due to this change \n",
    "            bubble_up(A, parent_element)\n",
    "    return\n",
    "\n",
    "\n",
    "A = [7, 10, 7, 12, 10, 9, 8, 5]\n",
    "bubble_up(A, 8 - 1)\n",
    "print(A)"
   ]
  },
  {
   "cell_type": "markdown",
   "id": "24ebec99",
   "metadata": {},
   "source": [
    "### Maintaing the Heap Property\n",
    "- For maintaining the heap property, we are using the following operations \n",
    "2. **Bubble Down**: - In this method, we are anlysing the array/tree from top - bottom (root -> Leaf). If the violation is there in the tree we need to swap it will min (Parent, Leftchild, rightchild) in Min - Heap. \n",
    "- `Number of violation in this approach should be 1 always`. "
   ]
  },
  {
   "cell_type": "code",
   "execution_count": 1,
   "id": "69853372",
   "metadata": {},
   "outputs": [],
   "source": [
    "# Implementation of Bubble - Down Approach \n",
    "def bubble_down(Arr: list[int], i: int, n: int) -> None:\n",
    "    # Base Case\n",
    "    if (i >= n):\n",
    "        return \n",
    "    \n",
    "    l = 2 * i\n",
    "    r = 2 * i + 1\n",
    "    # Check from parent, leftchild & rightchild which element is smallest\n",
    "    if (l < n and Arr[l - 1] < Arr[i - 1]):\n",
    "        smallest = l\n",
    "    else: \n",
    "        smallest = i\n",
    "    \n",
    "    if (r < n and Arr[r - 1] < Arr[smallest - 1]):\n",
    "        smallest = r\n",
    "    \n",
    "    # Now check if (root is smallest element or not)\n",
    "    if (i != smallest):\n",
    "        (Arr[i - 1], Arr[smallest - 1]) = (Arr[smallest - 1], Arr[i - 1])\n",
    "        bubble_down(Arr, smallest, n)\n",
    "    else: \n",
    "        bubble_down(Arr, i + 1, n)"
   ]
  },
  {
   "cell_type": "code",
   "execution_count": 24,
   "id": "e088f69b",
   "metadata": {},
   "outputs": [],
   "source": [
    "# Check if Array is following the heap property\n",
    "def check_minHeap(Arr: list[int]) -> bool:\n",
    "    n = len(Arr)\n",
    "    for i in range(n // 2):\n",
    "        l = 2 * (i + 1)\n",
    "        r = 2 * (i + 1) + 1\n",
    "\n",
    "        # Check the condition if parent is less than it's child of not\n",
    "        if (l < n and Arr[i] > Arr[l - 1]):\n",
    "            # Violation\n",
    "            return False\n",
    "        \n",
    "        if (r < n and Arr[i] > Arr[r - 1]):\n",
    "            # Violation\n",
    "            return False\n",
    "\n",
    "    # No Violation\n",
    "    return True    "
   ]
  },
  {
   "cell_type": "code",
   "execution_count": 25,
   "id": "5dac40d6",
   "metadata": {},
   "outputs": [
    {
     "name": "stdout",
     "output_type": "stream",
     "text": [
      "Violation: False \n",
      " [3, 1, 6, 4, 7, 8, 6]\n",
      "Violation: True \n",
      " [1, 3, 6, 4, 7, 8, 6]\n"
     ]
    }
   ],
   "source": [
    "Arr = [7, 3, 6, 4, 1, 8, 6]\n",
    "result = check_minHeap(Arr)\n",
    "bubble_down(Arr, 1, len(Arr))\n",
    "print(\"Violation:\", result, \"\\n\", Arr)\n",
    "# One Violation is found in this Heap (Again checking the properties will get us Min - Heap)\n",
    "bubble_down(Arr, 1, len(Arr))\n",
    "result = check_minHeap(Arr)\n",
    "print(\"Violation:\", result, \"\\n\", Arr)"
   ]
  }
 ],
 "metadata": {
  "kernelspec": {
   "display_name": ".venv",
   "language": "python",
   "name": "python3"
  },
  "language_info": {
   "codemirror_mode": {
    "name": "ipython",
    "version": 3
   },
   "file_extension": ".py",
   "mimetype": "text/x-python",
   "name": "python",
   "nbconvert_exporter": "python",
   "pygments_lexer": "ipython3",
   "version": "3.12.3"
  }
 },
 "nbformat": 4,
 "nbformat_minor": 5
}
