{
 "cells": [
  {
   "cell_type": "markdown",
   "id": "73ff8f06",
   "metadata": {},
   "source": [
    "### Heapify Converting Heap from array \n",
    "1. **Heapify Min - Heap**: - Maintaing the property of Min - Heap in all the element \n",
    "- **Implementation**: - Leave any operation on leaf node and start the pointer from n / 2 node to root node. \n",
    "- - In each node, implement `Bubble down` approach and swap element if not statisfy the Heap - Property.\n",
    "- **Time Complexity**: - $О(nlog_2(n))$\n",
    "\n",
    "2. 1. **Heapify Max - Heap**: - Maintaing the property of Max - Heap in all the element \n",
    "- **Implementation**: - Leave any operation on leaf node and start the pointer from n / 2 node to root node. \n",
    "- - In each node, implement `Bubble down` approach and swap element if not statisfy the Heap - Property.\n",
    "- **Time Complexity**: - $О(nlog_2(n))$"
   ]
  },
  {
   "cell_type": "code",
   "execution_count": 22,
   "id": "dfffba3a",
   "metadata": {},
   "outputs": [
    {
     "name": "stdout",
     "output_type": "stream",
     "text": [
      "[2, 3, 7, 12, 6, 9, 10, 19, 15, 8]\n"
     ]
    }
   ],
   "source": [
    "# Implementation of Min - Heapify\n",
    "def bubble_down(Arr: list[int], i: int, n: int) -> None:\n",
    "\n",
    "    smallest = i \n",
    "    left = 2 * i \n",
    "    right = 2 * i + 1\n",
    "    \n",
    "    if (left <= n and Arr[left - 1] < Arr[i - 1]):\n",
    "        smallest = left\n",
    "    \n",
    "    if (right <=n and Arr[right - 1] < Arr[smallest - 1]):\n",
    "        smallest = right\n",
    "    \n",
    "    if (i != smallest):\n",
    "        (Arr[i - 1], Arr[smallest - 1]) = (Arr[smallest - 1], Arr[i - 1])\n",
    "        bubble_down(Arr, smallest, n)\n",
    "\n",
    "\n",
    "def min_heapify(Arr: list[int]) -> None: \n",
    "    n = len(Arr)\n",
    "    i = n // 2\n",
    "    while (i > 0):\n",
    "        bubble_down(Arr, i, n)\n",
    "        i -= 1\n",
    "\n",
    "\n",
    "\n",
    "Arr = [7, 8, 2, 19, 3, 9, 10, 12, 15, 6]\n",
    "min_heapify(Arr)\n",
    "print(Arr)"
   ]
  },
  {
   "cell_type": "code",
   "execution_count": 20,
   "id": "5582f248",
   "metadata": {},
   "outputs": [
    {
     "name": "stdout",
     "output_type": "stream",
     "text": [
      "[19, 15, 10, 12, 6, 9, 2, 7, 8, 3]\n"
     ]
    }
   ],
   "source": [
    "# Implementation of Max - Heapify\n",
    "def bubble_down(Arr: list[int], i: int, n: int) -> None:\n",
    "\n",
    "    largest = i \n",
    "    left = 2 * i \n",
    "    right = 2 * i + 1\n",
    "    \n",
    "    if (left <= n and Arr[left - 1] > Arr[i - 1]):\n",
    "        largest = left\n",
    "    \n",
    "    if (right <=n and Arr[right - 1] > Arr[largest - 1]):\n",
    "        largest = right\n",
    "    \n",
    "    if (i != largest):\n",
    "        (Arr[i - 1], Arr[largest - 1]) = (Arr[largest - 1], Arr[i - 1])\n",
    "        bubble_down(Arr, largest, n)\n",
    "\n",
    "\n",
    "def max_heapify(Arr: list[int]) -> None: \n",
    "    n = len(Arr)\n",
    "    i = n // 2\n",
    "    while (i > 0):\n",
    "        bubble_down(Arr, i, n)\n",
    "        i -= 1\n",
    "\n",
    "\n",
    "B = [7, 8, 2, 19, 3, 9, 10, 12, 15, 6]\n",
    "max_heapify(B)\n",
    "print(B)"
   ]
  }
 ],
 "metadata": {
  "kernelspec": {
   "display_name": ".venv",
   "language": "python",
   "name": "python3"
  },
  "language_info": {
   "codemirror_mode": {
    "name": "ipython",
    "version": 3
   },
   "file_extension": ".py",
   "mimetype": "text/x-python",
   "name": "python",
   "nbconvert_exporter": "python",
   "pygments_lexer": "ipython3",
   "version": "3.12.3"
  }
 },
 "nbformat": 4,
 "nbformat_minor": 5
}
