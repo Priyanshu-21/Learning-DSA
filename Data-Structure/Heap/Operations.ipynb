{
 "cells": [
  {
   "cell_type": "markdown",
   "id": "f86c12d1",
   "metadata": {},
   "source": [
    "### Understanding all the operations under Heap Data Structure\n",
    "1. Insert Operation\n",
    "2. Delete Operation \n",
    "3. Finding the minimum and maximum Element from heap"
   ]
  },
  {
   "cell_type": "code",
   "execution_count": 17,
   "id": "e3b8e9fc",
   "metadata": {},
   "outputs": [
    {
     "name": "stdout",
     "output_type": "stream",
     "text": [
      "Result:- Is a Min - Heap \n",
      " [1, 6, 8, 6, 7, 9, 8]\n",
      "Result:- Is a Min - Heap \n",
      " [0, 1, 8, 6, 7, 9, 8, 6]\n"
     ]
    }
   ],
   "source": [
    "# Operation to insert a new element in heap\n",
    "def bubble_up(Arr: list[int], n: int) -> None:\n",
    "    if (n <= 1):\n",
    "        return\n",
    "    else:\n",
    "        parent = n // 2\n",
    "        if (Arr[n - 1] < Arr[parent - 1]):\n",
    "            (Arr[n - 1], Arr[parent - 1]) = (Arr[parent - 1], Arr[n - 1])\n",
    "            bubble_up(Arr, parent)\n",
    "\n",
    "\n",
    "def is_minHeap(Arr: list[int]) -> bool:\n",
    "    n = len(Arr)\n",
    "    i = 0\n",
    "    while (i < n // 2):\n",
    "        left = 2 * (i + 1)\n",
    "        right = 2 * (i + 1) + 1\n",
    "        # check which element is smaller from parent, and it's children\n",
    "        if (left < n and Arr[i] > Arr[left - 1]):\n",
    "            return False\n",
    "        \n",
    "        if (right < n and Arr[i] > Arr[right - 1]):\n",
    "            return False\n",
    "        \n",
    "        i += 1\n",
    "    \n",
    "    # Satisfy min-heap property\n",
    "    return True\n",
    "\n",
    "Arr = [1, 6, 8, 6, 7, 9, 8]\n",
    "result = \"Is a Min - Heap \\n\" if is_minHeap(Arr) == True else \"Not a Min - Heap \\n\"\n",
    "print(f'Result:- {result}', Arr)\n",
    "\n",
    "# Add new element '0' at the end. \n",
    "Arr.append(0)\n",
    "bubble_up(Arr, len(Arr))\n",
    "result = \"Is a Min - Heap \\n\" if is_minHeap(Arr) == True else \"Not a Min - Heap \\n\"\n",
    "print(f'Result:- {result}', Arr)"
   ]
  },
  {
   "cell_type": "markdown",
   "id": "4d6c6bae",
   "metadata": {},
   "source": [
    "### Time Complexity of Insert operation in Min - Heap\n",
    "- Inserting an element at end: - `Θ(1)`\n",
    "- Bubble Up (Approach to maintain Min - Heap property): - $`Θ(log_2(n))`$\n",
    "- Total time complexity: - Θ(1) + $`Θ(log_2(n))`$ = $`Θ(log_2(n))`$"
   ]
  },
  {
   "cell_type": "code",
   "execution_count": 32,
   "id": "d3463481",
   "metadata": {},
   "outputs": [
    {
     "name": "stdout",
     "output_type": "stream",
     "text": [
      "Result:- Not a Min - Heap \n",
      " [1, 6, 10, 6, 7, 9, 8]\n",
      "Result:- Is a Min - Heap \n",
      " [1, 6, 9, 6, 7, 10, 8]\n"
     ]
    }
   ],
   "source": [
    "# Deleting element from min - heap\n",
    "def bubble_down(B: list[int], i: int, n: int):\n",
    "    if (i >= n):\n",
    "        return \n",
    "\n",
    "    left = 2 * i\n",
    "    right = 2 * i + 1\n",
    "    if (left < n and B[i - 1] > B[left - 1]):\n",
    "        smallest = left\n",
    "    else:\n",
    "        smallest = i\n",
    "    \n",
    "    if (right < n and B[right - 1] < B[smallest - 1]):\n",
    "        smallest = right \n",
    "\n",
    "    if (i != smallest):\n",
    "        (B[i - 1], B[smallest - 1]) = (B[smallest - 1], B[i - 1])\n",
    "        bubble_down(B, smallest, n)\n",
    "    else: \n",
    "        bubble_down(B, i + 1, n)\n",
    "\n",
    "\n",
    "def delete_element(B: list[int], element: int):\n",
    "    # Swap Deleted element with Array's last element \n",
    "    (B[element], B[len(B) - 1]) = (B[len(B) - 1], B[element])\n",
    " \n",
    "B = [1, 6, 8, 6, 7, 9, 8, 10]\n",
    "\n",
    "# We want to Delete B[2] = 8\n",
    "delete_element(B, 2)\n",
    "B = [1, 6, 10, 6, 7, 9, 8]\n",
    "result = \"Is a Min - Heap \\n\" if is_minHeap(B) == True else \"Not a Min - Heap \\n\"\n",
    "print(f'Result:- {result}', B)\n",
    "\n",
    "# After deleting element 8 from 2nd index (size of B is n - 1)\n",
    "bubble_down(B, 1, len(B))\n",
    "result = \"Is a Min - Heap \\n\" if is_minHeap(B) == True else \"Not a Min - Heap \\n\"\n",
    "print(f'Result:- {result}', B)"
   ]
  },
  {
   "cell_type": "markdown",
   "id": "09b5a926",
   "metadata": {},
   "source": [
    "### Time Complexity of Delete operation in Min - Heap\n",
    "- Swapping the deleted element with last element position: - `Θ(1)`\n",
    "- Bubble Down (Approach to maintain Min - Heap property): - $`Θ(log_2(n))`$\n",
    "- Total time complexity: - Θ(1) + $`Θ(log_2(n))`$ = $`Θ(log_2(n))`$"
   ]
  },
  {
   "cell_type": "markdown",
   "id": "998e7ecf",
   "metadata": {},
   "source": [
    "### Finding Minimum and Maximum element in the heap \n",
    "- Finding Minimun: - `Min - Heap`: - Θ(1) {First element of heap}\n",
    "- Finding Maximum: - `Max - Heap`: - Θ(1) {First element of heap}\n",
    "---\n",
    "* Finding Maximum in `Min - Heap` will take Θ(n / 2) operations\n",
    "* Finding Mimimum in `Max - Heap` will take Θ(n /2 ) operations"
   ]
  }
 ],
 "metadata": {
  "kernelspec": {
   "display_name": ".venv",
   "language": "python",
   "name": "python3"
  },
  "language_info": {
   "codemirror_mode": {
    "name": "ipython",
    "version": 3
   },
   "file_extension": ".py",
   "mimetype": "text/x-python",
   "name": "python",
   "nbconvert_exporter": "python",
   "pygments_lexer": "ipython3",
   "version": "3.12.3"
  }
 },
 "nbformat": 4,
 "nbformat_minor": 5
}
