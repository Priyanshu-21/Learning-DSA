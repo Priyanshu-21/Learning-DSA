{
 "cells": [
  {
   "cell_type": "markdown",
   "id": "34a4767d",
   "metadata": {},
   "source": [
    "### Introduction to Heap Data Structure\n",
    "1. Heap is a DS represented by array which contains collection of keys in array of size `n`\n",
    "2. Heap can also be represented by Binaray Tree where each node should have `almost 2 child nodes`.\n"
   ]
  },
  {
   "cell_type": "markdown",
   "id": "72a9122a",
   "metadata": {},
   "source": [
    "### Properties of Heap\n",
    "1. Determine formula for `left-child`, `right-child` and `parent` of a Heap.\n",
    "- **Left-Child**: - `2i` ∀ `2i <= n`\n",
    "- **Right-Child**: - `2i + 1` ∀ `2i + 1 <= n`\n",
    "- **Parent-Child**: - Floor `(2i / 2 or (2i + 1) / 2)`\n",
    "2. Types of Heap (Min-Heap) & (Max-Heap)\n",
    "- **Min Heap**:-`A[i] >= A[PARENT(i)]`. For every child node will be greater than or equal to parent node. \n",
    "- **Max Heap**: - `A[i] <= A[PARENT(i)]`. For every child node will be less than or equal to parent node. \n",
    "3. Time Complexity for inserting elements in Heap\n",
    "- **Height of Binary Tree (Root -> highest leaf node)**: - `Θ(log(n))` {n: - size of Array}"
   ]
  },
  {
   "cell_type": "code",
   "execution_count": 15,
   "id": "b0167ab6",
   "metadata": {},
   "outputs": [
    {
     "name": "stdout",
     "output_type": "stream",
     "text": [
      "Min Heap\n"
     ]
    }
   ],
   "source": [
    "# Check if Heap is Min - Heap and following this property\n",
    "def min_heap(A, n):\n",
    "    i = 1\n",
    "    while (2 * i <= n and (2 * i + 1) <= n):\n",
    "        if (A[i] <= A[2*i] and A[i] <= A[2 * i + 1]):\n",
    "            i += 1\n",
    "        else:\n",
    "            return -1\n",
    "        \n",
    "    return 0\n",
    "\n",
    "A = [-2, 0, 1, 3, 5, 8, 10, 12]\n",
    "r = \"Min Heap\" if min_heap(A, len(A)) == 0 else \"Array is not Min - Heap\"\n",
    "print(r)\n"
   ]
  },
  {
   "cell_type": "code",
   "execution_count": 19,
   "id": "3eb8c590",
   "metadata": {},
   "outputs": [
    {
     "name": "stdout",
     "output_type": "stream",
     "text": [
      "Heap is not a Max - Heap\n"
     ]
    }
   ],
   "source": [
    "# Check if Heap is Max - Heap and following this property\n",
    "def max_heap(B, n):\n",
    "    i = 1\n",
    "    while (2 * i <= n and (2 * i + 1) <= n):\n",
    "        if (B[i] >= B[2*i] and B[i] >= B[2*i + 1]):\n",
    "            i += 1\n",
    "        else:\n",
    "            return -1\n",
    "        \n",
    "    return 0\n",
    "\n",
    "B = [11, 7, 8, 3, 4, 5, 8]\n",
    "result = \"Max Heap\" if max_heap(B, len(B)) == 0 else \"Heap is not a Max - Heap\"\n",
    "print(result)"
   ]
  },
  {
   "cell_type": "markdown",
   "id": "f5c00143",
   "metadata": {},
   "source": [
    "### Todo: - Understand proff of correctness for Max-Heap"
   ]
  }
 ],
 "metadata": {
  "kernelspec": {
   "display_name": ".venv",
   "language": "python",
   "name": "python3"
  },
  "language_info": {
   "codemirror_mode": {
    "name": "ipython",
    "version": 3
   },
   "file_extension": ".py",
   "mimetype": "text/x-python",
   "name": "python",
   "nbconvert_exporter": "python",
   "pygments_lexer": "ipython3",
   "version": "3.12.3"
  }
 },
 "nbformat": 4,
 "nbformat_minor": 5
}
