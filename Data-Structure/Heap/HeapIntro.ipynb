{
 "cells": [
  {
   "cell_type": "markdown",
   "id": "34a4767d",
   "metadata": {},
   "source": [
    "### Introduction to Heap Data Structure\n",
    "1. Heap is a DS represented by array which contains collection of keys in array of size `n`\n",
    "2. Heap can also be represented by Binaray Tree where each node should have `almost 2 child nodes`.\n"
   ]
  },
  {
   "cell_type": "markdown",
   "id": "72a9122a",
   "metadata": {},
   "source": [
    "### Properties of Heap\n",
    "1. Determine formula for `left-child`, `right-child` and `parent` of a Heap.\n",
    "- **Left-Child**: - `2i` ∀ `2i <= n`\n",
    "- **Right-Child**: - `2i + 1` ∀ `2i + 1 <= n`\n",
    "- **Parent-Child**: - Floor `(2i / 2 or (2i + 1) / 2)`\n",
    "2. Types of Heap (Min-Heap) & (Max-Heap)\n",
    "- **Min Heap**:-`A[i] >= A[PARENT(i)]`. For every child node will be greater than or equal to parent node. \n",
    "- **Max Heap**: - `A[i] <= A[PARENT(i)]`. For every child node will be less than or equal to parent node. \n",
    "3. Time Complexity for inserting elements in Heap\n",
    "- **Height of Binary Tree (Root -> highest leaf node)**: - `Θ(log(n))` {n: - size of Array}"
   ]
  },
  {
   "cell_type": "code",
   "execution_count": 27,
   "id": "b0167ab6",
   "metadata": {},
   "outputs": [
    {
     "name": "stdout",
     "output_type": "stream",
     "text": [
      "Min Heap\n"
     ]
    }
   ],
   "source": [
    "# Check if Heap is Min - Heap and following this property\n",
    "def min_heap(A, n):\n",
    "    i = 1\n",
    "    while (2 * i <= n and (2 * i + 1) <= n):\n",
    "        if (A[i] <= A[2*i] and A[i] <= A[2 * i + 1]):\n",
    "            i += 1\n",
    "        else:\n",
    "            return -1\n",
    "        \n",
    "    return 0\n",
    "\n",
    "A = [-2, 0, 1, 3, 5, 8, 10, 12]\n",
    "r = \"Min Heap\" if min_heap(A, len(A)) == 0 else \"Array is not Min - Heap\"\n",
    "print(r)\n"
   ]
  },
  {
   "cell_type": "code",
   "execution_count": 1,
   "id": "3eb8c590",
   "metadata": {},
   "outputs": [
    {
     "name": "stdout",
     "output_type": "stream",
     "text": [
      "Max Heap\n"
     ]
    }
   ],
   "source": [
    "# Check if Heap is Max - Heap and following this property\n",
    "def max_heap(B, n):\n",
    "    i = 1\n",
    "    while (2 * i <= n and (2 * i + 1) <= n):\n",
    "        if (B[i] >= B[2*i] and B[i] >= B[2*i + 1]):\n",
    "            i += 1\n",
    "        else:\n",
    "            return -1\n",
    "        \n",
    "    return 0\n",
    "\n",
    "B = [16, 14, 10, 8, 7, 9, 3, 2, 4, 1]\n",
    "result = \"Max Heap\" if max_heap(B, len(B)) == 0 else \"Heap is not a Max - Heap\"\n",
    "print(result)"
   ]
  },
  {
   "cell_type": "markdown",
   "id": "98c6fe34",
   "metadata": {},
   "source": [
    "### Maintaining the Heapify Propery\n",
    "- `Max - Heap Property`:-  (Every parent node of a tree should be greater than or equal to left and right child node)"
   ]
  },
  {
   "cell_type": "code",
   "execution_count": 33,
   "id": "aedbf8c0",
   "metadata": {},
   "outputs": [
    {
     "name": "stdout",
     "output_type": "stream",
     "text": [
      "-1\n"
     ]
    }
   ],
   "source": [
    "def maxheap_property(Arr, n):\n",
    "    i = 1\n",
    "    largest = 0\n",
    "    while (i <= n):\n",
    "        left = 2 * i\n",
    "        right = 2 * i + 1\n",
    "        if (left < n and Arr[left] > Arr[i]):\n",
    "            largest = left\n",
    "        else:\n",
    "            largest = i\n",
    "        \n",
    "        if (right < n and Arr[right] > Arr[largest]):\n",
    "            largest = right\n",
    "        \n",
    "        if (largest != i):\n",
    "            (Arr[i], Arr[largest]) = (Arr[largest], Arr[i])\n",
    "            i = largest\n",
    "        else:\n",
    "            i += 1\n",
    "\n",
    "\n",
    "Arr = [27, 17, 3, 16, 13, 10, 1, 5, 7, 12, 4, 8, 9, 0]\n",
    "maxheap_property(Arr, len(Arr))\n",
    "print(max_heap(Arr, len(Arr)))\n"
   ]
  },
  {
   "cell_type": "code",
   "execution_count": 46,
   "id": "5b205f21",
   "metadata": {},
   "outputs": [],
   "source": [
    "# Implementation of Max-Heapify Property using Recursive Reccurrences\n",
    "def max_heapify(Arr, i, n):\n",
    "    \n",
    "    l = 2 * i\n",
    "    r = 2 * i + 1\n",
    "\n",
    "    # check which node (leftchild or parent) is greater\n",
    "    if (l < n and Arr[l] > Arr[i]):\n",
    "        largest = l\n",
    "    else:\n",
    "        largest = i\n",
    "    \n",
    "    # Check is now greater from leftchild, rightchild and parent\n",
    "    if (r < n and Arr[r] > Arr[largest]):\n",
    "        largest = r\n",
    "    \n",
    "    if (i != largest):\n",
    "        # Swap i node and largest node position \n",
    "        (Arr[i], Arr[largest]) = (Arr[largest], Arr[i])\n",
    "\n",
    "        # Now, need to check the next pair of parent, leftchild and rightchild\n",
    "        max_heapify(Arr, largest, n)"
   ]
  },
  {
   "cell_type": "code",
   "execution_count": 47,
   "id": "fee2e31f",
   "metadata": {},
   "outputs": [
    {
     "name": "stdout",
     "output_type": "stream",
     "text": [
      "[16, 14, 10, 4, 7, 9, 3, 2, 8, 1]\n"
     ]
    }
   ],
   "source": [
    "C = [16, 4, 10, 14, 7, 9, 3, 2, 8, 1]\n",
    "max_heapify(C, 1, len(C))\n",
    "print(C)"
   ]
  },
  {
   "cell_type": "markdown",
   "id": "8283c881",
   "metadata": {},
   "source": [
    "### Time Complexity of Max-Heapify: -\n",
    "- `T(n) = T(2n/3) + Θ(1)` \n",
    "1. 2n/ 3: - For each node we are checking it's left child and right child values. \n",
    "2. Order of 1 to Swap the value of nodes when condition is statisfies.\n",
    "- **Time Complexity**: - O($log_2(n)$)\n",
    "\n"
   ]
  }
 ],
 "metadata": {
  "kernelspec": {
   "display_name": ".venv",
   "language": "python",
   "name": "python3"
  },
  "language_info": {
   "codemirror_mode": {
    "name": "ipython",
    "version": 3
   },
   "file_extension": ".py",
   "mimetype": "text/x-python",
   "name": "python",
   "nbconvert_exporter": "python",
   "pygments_lexer": "ipython3",
   "version": "3.12.3"
  }
 },
 "nbformat": 4,
 "nbformat_minor": 5
}
