{
 "cells": [
  {
   "cell_type": "markdown",
   "id": "a715db49",
   "metadata": {},
   "source": [
    "## Analysis of algorithm used for sorting technique. \n",
    "1. Insertion Sorting Alogrithm\n",
    "- **Loop Invariant**\n",
    "```md\n",
    "A = [a0, a1, a2, ... , aj - 1, aj, ..., an]\n",
    "- Here left part of array from a0 till aj-1 is sorted \n",
    "- When aj is compared with left part of array, it will be positioned in it's sorted position \n",
    "- **Initialization**: - When j = 1 then A[0] is sorted \n",
    "- **Maintenance**: - [a0, a1, aj - 1] is sorted then aj will be in it's stored position in left array\n",
    "- **Termination**: - When j = n then array will be sorted. \n",
    "```\n",
    "- **Time Complexity**: - $Θ(n^2)$\n",
    "\n",
    "2. Merge Sort Algorithm\n",
    "3. Heap Sort Algorithm "
   ]
  },
  {
   "cell_type": "code",
   "execution_count": 11,
   "id": "c4d74ec6",
   "metadata": {},
   "outputs": [
    {
     "name": "stdout",
     "output_type": "stream",
     "text": [
      "[-1, 4, 7, 8, 9, 10, 15, 25]\n"
     ]
    }
   ],
   "source": [
    "# Insertion Sort Implementation \n",
    "\n",
    "def insertion(Arr: list[int], j: int, n: int) -> None: \n",
    "\n",
    "    for i in range (j - 1, -1, -1):\n",
    "        if (Arr[i] > Arr[i + 1]):\n",
    "            (Arr[i], Arr[i + 1]) = (Arr[i + 1], Arr[i])\n",
    "        else: \n",
    "            break\n",
    "\n",
    "def insertion_sort(Arr: list[int], n: int) -> None: \n",
    "\n",
    "    for j in range (1, n, 1):\n",
    "        insertion(Arr, j, n)\n",
    "\n",
    "Arr = [15, 25, 10, 4, 7, 8, 9, -1]\n",
    "insertion_sort(Arr, len(Arr))\n",
    "print(Arr)"
   ]
  }
 ],
 "metadata": {
  "kernelspec": {
   "display_name": ".venv",
   "language": "python",
   "name": "python3"
  },
  "language_info": {
   "codemirror_mode": {
    "name": "ipython",
    "version": 3
   },
   "file_extension": ".py",
   "mimetype": "text/x-python",
   "name": "python",
   "nbconvert_exporter": "python",
   "pygments_lexer": "ipython3",
   "version": "3.12.3"
  }
 },
 "nbformat": 4,
 "nbformat_minor": 5
}
