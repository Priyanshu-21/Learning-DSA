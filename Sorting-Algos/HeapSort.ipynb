{
 "cells": [
  {
   "cell_type": "markdown",
   "id": "90e7d2e5",
   "metadata": {},
   "source": [
    "## Analysis and Implementation of Heap Sort Algorithm \n",
    "1. **Analysis**\n",
    "- Divide and Conqure algorithm, with in - place approach \n",
    "- Converting array to Max - Heap and then applying logic\n",
    "2. **Implementation**\n",
    "- *First*: - Convert array to Max - Heap (using heapify method)\n",
    "- *Second*: - Now, traverse the elements from n → 2 (root to 2nd node) and then do you logic \n",
    "- **Psudo Code**\n",
    "```python\n",
    "buildMaxHeap(Arr, n)\n",
    "for i in range (n, 3):\n",
    "    swap(Arr[1], Arr[n])\n",
    "    Arr.size = Arr.size - 1\n",
    "    MaxHeap(Arr, 1)\n",
    "```\n",
    "3. **Complexity Analysis**"
   ]
  },
  {
   "cell_type": "code",
   "execution_count": 52,
   "id": "901a2ac5",
   "metadata": {},
   "outputs": [],
   "source": [
    "# Build Heapify Max - Heap (Implementation)\n",
    "def build_heap(Arr: list[int], i: int, n: int) -> None:\n",
    "\n",
    "    largest = i \n",
    "    left = 2 * i \n",
    "    right = 2 * i + 1\n",
    "    \n",
    "    if (left <= n and Arr[left - 1] > Arr[i - 1]):\n",
    "        largest = left\n",
    "    \n",
    "    if (right <=n and Arr[right - 1] > Arr[largest - 1]):\n",
    "        largest = right\n",
    "    \n",
    "    if (i != largest):\n",
    "        (Arr[i - 1], Arr[largest - 1]) = (Arr[largest - 1], Arr[i - 1])\n",
    "        build_heap(Arr, largest, n)\n",
    "\n",
    "\n",
    "def build_heapify(Arr: list[int]):\n",
    "    n = len(Arr)\n",
    "    i = n // 2\n",
    "    while (i > 0):\n",
    "        build_heap(Arr, i, n)\n",
    "        i -= 1"
   ]
  },
  {
   "cell_type": "code",
   "execution_count": 54,
   "id": "3988c1ec",
   "metadata": {},
   "outputs": [],
   "source": [
    "# Implementation of main HeapSort Algorithm \n",
    "def heap_sort(Arr: list[int], n: int):\n",
    "    build_heapify(Arr)\n",
    "    for i in range (n - 1, 0, -1):\n",
    "        # Swap root element of array with array last element \n",
    "        (Arr[i], Arr[0]) = (Arr[0], Arr[i])\n",
    "\n",
    "        # Now decrease the size of array\n",
    "        # Again build Max - Heap from root Node \n",
    "        build_heap(Arr, 1, i)"
   ]
  },
  {
   "cell_type": "code",
   "execution_count": null,
   "id": "73dd55a9",
   "metadata": {},
   "outputs": [
    {
     "name": "stdout",
     "output_type": "stream",
     "text": [
      "[2, 3, 4, 5, 7, 9, 15, 19]\n"
     ]
    }
   ],
   "source": [
    "# Implementation of HeapSort Algorithm \n",
    "Arr = [5, 2, 3, 4, 9, 19, 15, 7]\n",
    "heap_sort(Arr, len(Arr))\n",
    "print(Arr)"
   ]
  }
 ],
 "metadata": {
  "kernelspec": {
   "display_name": ".venv",
   "language": "python",
   "name": "python3"
  },
  "language_info": {
   "codemirror_mode": {
    "name": "ipython",
    "version": 3
   },
   "file_extension": ".py",
   "mimetype": "text/x-python",
   "name": "python",
   "nbconvert_exporter": "python",
   "pygments_lexer": "ipython3",
   "version": "3.12.3"
  }
 },
 "nbformat": 4,
 "nbformat_minor": 5
}
